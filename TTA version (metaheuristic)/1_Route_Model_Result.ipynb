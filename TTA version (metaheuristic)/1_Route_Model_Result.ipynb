{
 "cells": [
  {
   "cell_type": "markdown",
   "id": "56a1f4e9-e402-4b7a-bcf1-8ea573714ccc",
   "metadata": {},
   "source": [
    "====================================================================\n",
    "\n",
    "### 1. 프로젝트 \n",
    "- 프로젝트명 : Blitz 수요 예측 모델 및 경로 최적화\n",
    "- 기간 : 2024년 08월 16일 ~ 2024년 11월 01일\n",
    "- 모형 : 경로 최적화 모델(Route Optimization)\n",
    "\n",
    "### 2. 작성자\n",
    "- 회사명 : 에이젠 글로벌\n",
    "- 이름  : 남건우\n",
    "- 직급  : 매니저\n",
    "\n",
    "### 3. 데이터\n",
    "- size(전처리 후): 6537 건\n",
    "        \n",
    "===================================================================="
   ]
  },
  {
   "cell_type": "markdown",
   "id": "2ab85a35-2627-41e6-abd2-8469ad75a275",
   "metadata": {},
   "source": [
    "# 1. 데이터 전처리"
   ]
  },
  {
   "cell_type": "code",
   "execution_count": 1,
   "id": "65cc9538-180e-407d-929f-96ff0d3f2c4a",
   "metadata": {},
   "outputs": [],
   "source": [
    "# 0. 함수 호출\n",
    "from def_model import *\n",
    "\n",
    "# 1. Base\n",
    "import copy\n",
    "import time\n",
    "from datetime import timedelta\n",
    "from datetime import datetime\n",
    "import itertools\n",
    "\n",
    "from random import *\n",
    "from tqdm import tqdm\n",
    "\n",
    "import numpy as np\n",
    "import pandas as pd\n",
    "import matplotlib.pyplot as plt\n",
    "\n",
    "import warnings\n",
    "warnings.filterwarnings(action='ignore')"
   ]
  },
  {
   "cell_type": "code",
   "execution_count": 2,
   "id": "ac2f124f-478a-4927-bc50-c75dc776452b",
   "metadata": {},
   "outputs": [],
   "source": [
    "data_dir = '../../../Blitz/TTA/data/pre/blitz_data_route.pickle'\n",
    "df = pd.read_pickle(\"blitz_data_route.pickle\")"
   ]
  },
  {
   "cell_type": "code",
   "execution_count": 3,
   "id": "179284c4-3f47-4ab3-bfcd-a560aef3ec06",
   "metadata": {},
   "outputs": [],
   "source": [
    "# 2024년 8월 필터\n",
    "df = df[(df['pickup_done_at_(1st_attempt)'].dt.year == 2024) & (df['pickup_done_at_(1st_attempt)'].dt.month == 8)]\n",
    "\n",
    "# 허브 3곳 필터\n",
    "blitz_hub_list = ['Blitz Station - Jakarta Timur', 'Blitz Station - Jakarta Barat', 'Blitz Head Office']\n",
    "df = df[df.blitz_hub.isin(blitz_hub_list)]\n",
    "\n",
    "# midmile_arrived_time null값 필터\n",
    "df = df[df.midmile_arrived_at != '-']\n",
    "\n",
    "# 기존 경로 추적 시 필요한 driver name 필터\n",
    "df = df.dropna(subset=['driver_name', 'pickup_done_at_(1st_attempt)'])"
   ]
  },
  {
   "cell_type": "code",
   "execution_count": 4,
   "id": "2a609d2b-517a-4404-88eb-15d73b56806e",
   "metadata": {},
   "outputs": [],
   "source": [
    "# 주문 묶음을 나누는 기준인 time block 설정\n",
    "bins = [i for i in range(0, 27, 3)]\n",
    "labels = ['{0:02d}-{1:02d}'.format(i, i+3) for i in range(0, 24, 3)]\n",
    "\n",
    "df['midmile_arrived_at'] = pd.to_datetime(df['midmile_arrived_at'], errors = 'coerce')\n",
    "df['time_block'] = pd.cut(df['midmile_arrived_at'].dt.hour, bins=bins, labels=labels, right=False)\n",
    "df['time_block'] = df['midmile_arrived_at'].dt.date.astype(str) + ' ' + df['time_block'].astype(str)"
   ]
  },
  {
   "cell_type": "code",
   "execution_count": 5,
   "id": "1e081a51-f168-4fa8-afd8-cc6d61710db1",
   "metadata": {},
   "outputs": [],
   "source": [
    "# 주문 마감기한 계산\n",
    "df['due_time'] = df.apply(calculate_duetime, axis=1)"
   ]
  },
  {
   "cell_type": "code",
   "execution_count": 6,
   "id": "60505bb4-0905-4b9f-a89e-3154c5a8187b",
   "metadata": {},
   "outputs": [],
   "source": [
    "# 인덱스 초기화\n",
    "df.reset_index(inplace=True)"
   ]
  },
  {
   "cell_type": "code",
   "execution_count": 7,
   "id": "87f85f1a-38b0-4272-a327-18549f8fc164",
   "metadata": {},
   "outputs": [
    {
     "data": {
      "text/plain": [
       "(6537, 49)"
      ]
     },
     "execution_count": 7,
     "metadata": {},
     "output_type": "execute_result"
    }
   ],
   "source": [
    "df.shape"
   ]
  },
  {
   "cell_type": "markdown",
   "id": "225d6a22-522d-40d5-8091-d0ecb03575da",
   "metadata": {},
   "source": [
    "# 2. 최종 모형"
   ]
  },
  {
   "cell_type": "code",
   "execution_count": 8,
   "id": "37a4a429-d572-4c12-bfb2-3933ab4c7de2",
   "metadata": {},
   "outputs": [],
   "source": [
    "distance_matrix, duration_matrix, coords = euclidean_distance_duration_matrix(df)"
   ]
  },
  {
   "cell_type": "code",
   "execution_count": 9,
   "id": "a101f37e-1d6c-4abc-ae0c-e27d3cac50c2",
   "metadata": {},
   "outputs": [],
   "source": [
    "due_time = df.due_time.tolist()\n",
    "demand = df.weight.tolist()\n",
    "capacity = 180"
   ]
  },
  {
   "cell_type": "code",
   "execution_count": 10,
   "id": "8a81389b-90ce-4cc3-b7ab-7d6822502884",
   "metadata": {},
   "outputs": [],
   "source": [
    "dates = pd.date_range(start='2024-08-01', end='2024-08-31', freq='D')\n",
    "time_blocks = ['{0:02d}-{1:02d}'.format(i, i+3) for i in range(0, 24, 3)]\n",
    "blitz_hub_list = ['Blitz Station - Jakarta Timur', 'Blitz Station - Jakarta Barat', 'Blitz Head Office']"
   ]
  },
  {
   "cell_type": "code",
   "execution_count": 11,
   "id": "46837116-209f-4a65-a0c6-3a691a8854fb",
   "metadata": {},
   "outputs": [
    {
     "name": "stderr",
     "output_type": "stream",
     "text": [
      "100%|██████████| 248/248 [1:29:34<00:00, 21.67s/it]"
     ]
    },
    {
     "name": "stdout",
     "output_type": "stream",
     "text": [
      "\n",
      "Total duration: 5374.68 seconds.\n"
     ]
    },
    {
     "name": "stderr",
     "output_type": "stream",
     "text": [
      "\n"
     ]
    }
   ],
   "source": [
    "solution_list = []\n",
    "code_start_time = time.time()\n",
    "\n",
    "for date, time_block in tqdm(itertools.product(dates, time_blocks), total=len(dates) * len(time_blocks)):\n",
    "        date_str = date.strftime('%Y-%m-%d') + ' ' + time_block\n",
    "        for blitz_hub in blitz_hub_list:\n",
    "\n",
    "            start_time = time.time()\n",
    "            tour_solution = VNS(df, date_str, blitz_hub, distance_matrix, duration_matrix, due_time, demand, capacity, coords)\n",
    "            end_time = time.time()\n",
    "\n",
    "            if len(tour_solution) > 0:\n",
    "                solution_dict = {\n",
    "                    \"time_block_and_hub\": date_str + \" \" + blitz_hub,\n",
    "                    \"time_block\" : date_str,\n",
    "                    \"blitz_hub\": blitz_hub,\n",
    "                    \"tour_solution\": tour_solution,\n",
    "                    \"total_distance\": total_distance(tour_solution, distance_matrix),\n",
    "                    \"duration\": end_time - start_time,\n",
    "                }\n",
    "                solution_list.append(solution_dict)\n",
    "\n",
    "code_end_time = time.time()\n",
    "print(f\"\\nTotal duration: {code_end_time - code_start_time:.2f} seconds.\")"
   ]
  },
  {
   "cell_type": "code",
   "execution_count": 12,
   "id": "ab3af4f2-b2f4-4fa8-b320-370afe124e06",
   "metadata": {},
   "outputs": [],
   "source": [
    "solution_df = pd.DataFrame(solution_list)\n",
    "total_tour_solution = [item for sublist in solution_df.tour_solution.tolist() for item in sublist] "
   ]
  },
  {
   "cell_type": "code",
   "execution_count": 13,
   "id": "ff3876ce-32b0-441f-a59d-f1aa267f64ce",
   "metadata": {},
   "outputs": [],
   "source": [
    "improved_distance = solution_df.total_distance.sum()"
   ]
  },
  {
   "cell_type": "code",
   "execution_count": 14,
   "id": "cb44edda-2622-4fbb-bb2f-951dd3a8dcff",
   "metadata": {},
   "outputs": [],
   "source": [
    "original_tour = [\n",
    "    [blitz_hub_to_i(path_df.blitz_hub.iloc[0])] + path_df.index.tolist()\n",
    "    for path_id, path_df in df.groupby(['driver_name', 'pickup_done_at_(1st_attempt)']) if not path_df.empty\n",
    "]\n",
    "original_distance = total_distance(original_tour, distance_matrix)"
   ]
  },
  {
   "cell_type": "code",
   "execution_count": 15,
   "id": "6408e6c7-d937-44e3-a64b-6c864dcd27c1",
   "metadata": {},
   "outputs": [
    {
     "name": "stdout",
     "output_type": "stream",
     "text": [
      "절감률은 29.60% 입니다\n"
     ]
    }
   ],
   "source": [
    "print(f'절감률은 {(original_distance - improved_distance) / original_distance * 100:.2f}% 입니다')"
   ]
  }
 ],
 "metadata": {
  "kernelspec": {
   "display_name": "Python 3 (ipykernel)",
   "language": "python",
   "name": "python3"
  },
  "language_info": {
   "codemirror_mode": {
    "name": "ipython",
    "version": 3
   },
   "file_extension": ".py",
   "mimetype": "text/x-python",
   "name": "python",
   "nbconvert_exporter": "python",
   "pygments_lexer": "ipython3",
   "version": "3.11.10"
  }
 },
 "nbformat": 4,
 "nbformat_minor": 5
}
